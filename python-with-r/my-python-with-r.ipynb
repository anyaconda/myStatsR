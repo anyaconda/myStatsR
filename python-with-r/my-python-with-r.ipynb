{
 "cells": [
  {
   "cell_type": "code",
   "execution_count": 1,
   "metadata": {},
   "outputs": [],
   "source": [
    "#meta 5/14/2019 How to call R from Python\n",
    "\n",
    "# 5/14/2019 SETUP\n",
    "#      enbable basic R in Python\n",
    "#      graphics with ggplot"
   ]
  },
  {
   "cell_type": "markdown",
   "metadata": {},
   "source": [
    "# Calling R from Python"
   ]
  },
  {
   "cell_type": "markdown",
   "metadata": {},
   "source": [
    "based on https://sites.google.com/site/aslugsguidetopython/data-analysis/pandas/calling-r-from-python\n",
    "- First of all you have to have both R and python installed. You then need to install rpy2.\n",
    "- pip install rpy2\n",
    "\n",
    "Stuck at import pandas.rpy.common as com - no more pandas.rpy  \n",
    "Refer to https://pandas.pydata.org/pandas-docs/version/0.19/r_interface.html  \n",
    "Similar functionality can be accessed through the rpy2 project.\n",
    "https://rpy2.readthedocs.io/\n",
    "\n",
    "Good sources:  \n",
    "https://rpy2.readthedocs.io/en/version_2.8.x/overview.html  \n",
    "https://rpy2.readthedocs.io/en/version_2.8.x/"
   ]
  },
  {
   "cell_type": "code",
   "execution_count": 2,
   "metadata": {},
   "outputs": [],
   "source": [
    "from numpy import *\n",
    "import scipy as sp\n",
    "import matplotlib\n",
    "#import matplotlib.pyplot as plot\n",
    "%matplotlib inline\n",
    "from pandas import *\n",
    "from rpy2.robjects.packages import importr\n",
    "import rpy2.robjects as ro\n",
    "\n",
    "#no more pandas.rpy\n",
    "#refer https://stackoverflow.com/questions/45221609/modulenotfounderror-no-module-named-pandas-rpy\n",
    "#import pandas.rpy.common as com"
   ]
  },
  {
   "cell_type": "code",
   "execution_count": 3,
   "metadata": {},
   "outputs": [
    {
     "name": "stdout",
     "output_type": "stream",
     "text": [
      "[1] 22 44\n",
      "\n"
     ]
    },
    {
     "data": {
      "text/plain": [
       "rpy2.robjects.vectors.FloatVector"
      ]
     },
     "execution_count": 3,
     "metadata": {},
     "output_type": "execute_result"
    }
   ],
   "source": [
    "ro.r('x=c()')\n",
    "ro.r('x[1]=22')\n",
    "ro.r('x[2]=44')\n",
    "print(ro.r('x'))\n",
    "type(ro.r('x'))"
   ]
  },
  {
   "cell_type": "markdown",
   "metadata": {},
   "source": [
    "## Introduction to rpy2\n",
    "https://rpy2.readthedocs.io/en/version_2.8.x/introduction.html\n",
    "\n",
    "https://rpy2.readthedocs.io/en/version_2.8.x/overview.html\n",
    "\n",
    "rpy2 is like any other python package binding to a C library. Its top level can be imported, and the version obtained."
   ]
  },
  {
   "cell_type": "code",
   "execution_count": 4,
   "metadata": {},
   "outputs": [
    {
     "name": "stdout",
     "output_type": "stream",
     "text": [
      "3.0.4\n"
     ]
    }
   ],
   "source": [
    "import rpy2\n",
    "print(rpy2.__version__)"
   ]
  },
  {
   "cell_type": "markdown",
   "metadata": {},
   "source": [
    "rpy2 is providing 2 levels of interface with R: - low-level (rpy2.rinterface) - high-level (rpy2.robjects).\n",
    "\n",
    "The high-level interface is trying to make the use of R as natural as possible for a Python user (something sometimes referred to as “pythonic”), and this introduction is only coverage that interface.\n",
    "\n",
    "Importing the top-level sub-package is also initializing and starting R embedded in the current Python process:"
   ]
  },
  {
   "cell_type": "markdown",
   "metadata": {},
   "source": [
    "## Graphics and Plots - With ggplot2\n",
    "\n",
    "ggplot is a plotting system for Python based on R's ggplot2 and the Grammar of Graphics. It is built for making profressional looking, plots quickly with minimal code. (refer to http://ggplot.yhathq.com)"
   ]
  },
  {
   "cell_type": "code",
   "execution_count": 5,
   "metadata": {},
   "outputs": [],
   "source": [
    "#importing data\n",
    "datasets = importr('datasets')\n",
    "from rpy2.robjects.packages import data\n",
    "mtcars = data(datasets).fetch('mtcars')['mtcars']"
   ]
  },
  {
   "cell_type": "markdown",
   "metadata": {},
   "source": [
    "### Option 1 - with R cells"
   ]
  },
  {
   "cell_type": "code",
   "execution_count": 6,
   "metadata": {},
   "outputs": [],
   "source": [
    "# load the needed extension for the %%R cell magic\n",
    "%load_ext rpy2.ipython"
   ]
  },
  {
   "cell_type": "code",
   "execution_count": 7,
   "metadata": {},
   "outputs": [
    {
     "name": "stderr",
     "output_type": "stream",
     "text": [
      "R[write to console]: Registered S3 methods overwritten by 'ggplot2':\n",
      "  method         from \n",
      "  [.quosures     rlang\n",
      "  c.quosures     rlang\n",
      "  print.quosures rlang\n",
      "\n"
     ]
    }
   ],
   "source": [
    "%%R\n",
    "# load the ggplot2 library\n",
    "library(ggplot2)"
   ]
  },
  {
   "cell_type": "code",
   "execution_count": 8,
   "metadata": {},
   "outputs": [
    {
     "data": {
      "image/png": "[encoded data removed]"
     },
     "metadata": {},
     "output_type": "display_data"
    }
   ],
   "source": [
    "%%R -i mtcars -w 8 -h 4 -u in\n",
    "\n",
    "ggplot(mtcars, aes(x=wt, y=mpg)) + geom_point()"
   ]
  },
  {
   "cell_type": "markdown",
   "metadata": {},
   "source": [
    "### Option 2 - with rpy2 ggplot2\n",
    "Refer https://rpy2.readthedocs.io/en/version_2.8.x/graphics.html#package-ggplot2\n",
    "Seems to work but doesn't print (could be a simple setting like show, similar in Pycharm?)."
   ]
  },
  {
   "cell_type": "code",
   "execution_count": 9,
   "metadata": {},
   "outputs": [
    {
     "name": "stderr",
     "output_type": "stream",
     "text": [
      "/Users/Amigo/anaconda3/lib/python3.6/site-packages/rpy2/robjects/lib/ggplot2.py:69: UserWarning: This was designed againt ggplot2 version 3.1.0 but you have 3.1.1\n",
      "  'have %s' % (TARGET_VERSION, ggplot2.__version__))\n"
     ]
    }
   ],
   "source": [
    "import rpy2.robjects.lib.ggplot2 as ggplot2"
   ]
  },
  {
   "cell_type": "code",
   "execution_count": 10,
   "metadata": {},
   "outputs": [],
   "source": [
    "gp = ggplot2.ggplot(mtcars)\n",
    "\n",
    "pp = gp + \\\n",
    "     ggplot2.aes_string(x='wt', y='mpg', col='factor(cyl)') + \\\n",
    "     ggplot2.geom_point()\n",
    "\n",
    "pp.plot()"
   ]
  },
  {
   "cell_type": "markdown",
   "metadata": {},
   "source": [
    "### Option 3 (Simplest) - with ggplot from yhat\n",
    "http://ggplot.yhathq.com"
   ]
  },
  {
   "cell_type": "code",
   "execution_count": 11,
   "metadata": {},
   "outputs": [
    {
     "name": "stderr",
     "output_type": "stream",
     "text": [
      "/Users/Amigo/anaconda3/lib/python3.6/site-packages/ggplot/utils.py:81: FutureWarning: pandas.tslib is deprecated and will be removed in a future version.\n",
      "You can access Timestamp as pandas.Timestamp\n",
      "  pd.tslib.Timestamp,\n",
      "/Users/Amigo/anaconda3/lib/python3.6/site-packages/ggplot/stats/smoothers.py:4: FutureWarning: The pandas.lib module is deprecated and will be removed in a future version. These are private functions and can be accessed from pandas._libs.lib instead\n",
      "  from pandas.lib import Timestamp\n"
     ]
    },
    {
     "data": {
      "image/png": "[encoded data removed]",
      "text/plain": [
       "<Figure size 792x576 with 1 Axes>"
      ]
     },
     "metadata": {},
     "output_type": "display_data"
    },
    {
     "data": {
      "text/plain": [
       "<ggplot: (293789055)>"
      ]
     },
     "execution_count": 11,
     "metadata": {},
     "output_type": "execute_result"
    }
   ],
   "source": [
    "from ggplot import *\n",
    "\n",
    "p = ggplot(mtcars, aes('wt','mpg')) + \\\n",
    "    geom_point(color='black') \n",
    "p"
   ]
  },
  {
   "cell_type": "markdown",
   "metadata": {},
   "source": [
    "## Porting code to rpy2\n",
    "https://rpy2.readthedocs.io/en/version_2.8.x/porting-to-rpy2.html#from-rpy\n",
    "\n",
    "#### Setting up\n",
    "rpy2 can hide more of the R layer, providing an interface that only requires Python knowledge."
   ]
  },
  {
   "cell_type": "code",
   "execution_count": 12,
   "metadata": {},
   "outputs": [
    {
     "name": "stdout",
     "output_type": "stream",
     "text": [
      "[1] \"/Library/Frameworks/R.framework/Versions/3.6/Resources/library\"\n",
      "\n",
      "[1] \"/Library/Frameworks/R.framework/Resources\"\n",
      "\n"
     ]
    }
   ],
   "source": [
    "from rpy2.robjects.vectors import DataFrame\n",
    "from rpy2.robjects.packages import importr, data\n",
    "\n",
    "r_base = importr('base')\n",
    "print(r_base._libPaths())\n",
    "print(r_base.R_home())"
   ]
  },
  {
   "cell_type": "markdown",
   "metadata": {},
   "source": [
    "#### Importing the data\n",
    "If you do not have the data file nearby, this dataset can be loaded from R’s own collection of datasets:"
   ]
  },
  {
   "cell_type": "code",
   "execution_count": 13,
   "metadata": {},
   "outputs": [],
   "source": [
    "#importing data\n",
    "datasets = importr('datasets')\n",
    "faithful_data = data(datasets).fetch('faithful')['faithful']"
   ]
  },
  {
   "cell_type": "markdown",
   "metadata": {},
   "source": [
    "Summary"
   ]
  },
  {
   "cell_type": "code",
   "execution_count": 14,
   "metadata": {},
   "outputs": [
    {
     "data": {
      "text/html": [
       "\n",
       "        <span>FloatVector with 272 elements.</span>\n",
       "        <table>\n",
       "        <tbody>\n",
       "          <tr>\n",
       "          \n",
       "            <td>\n",
       "            3.600000\n",
       "            </td>\n",
       "          \n",
       "            <td>\n",
       "            1.800000\n",
       "            </td>\n",
       "          \n",
       "            <td>\n",
       "            3.333000\n",
       "            </td>\n",
       "          \n",
       "            <td>\n",
       "            ...\n",
       "            </td>\n",
       "          \n",
       "            <td>\n",
       "            4.417000\n",
       "            </td>\n",
       "          \n",
       "            <td>\n",
       "            1.817000\n",
       "            </td>\n",
       "          \n",
       "            <td>\n",
       "            4.467000\n",
       "            </td>\n",
       "          \n",
       "          </tr>\n",
       "        </tbody>\n",
       "        </table>\n",
       "        "
      ],
      "text/plain": [
       "R object with classes: ('numeric',) mapped to:\n",
       "[3.600000, 1.800000, 3.333000, 2.283000, ..., 2.150000, 4.417000, 1.817000, 4.467000]"
      ]
     },
     "execution_count": 14,
     "metadata": {},
     "output_type": "execute_result"
    }
   ],
   "source": [
    "#help with data\n",
    "#?faithful_data\n",
    "faithful_data.rx2(\"eruptions\")"
   ]
  },
  {
   "cell_type": "code",
   "execution_count": 15,
   "metadata": {},
   "outputs": [
    {
     "name": "stdout",
     "output_type": "stream",
     "text": [
      "   Min. 1st Qu.  Median    Mean 3rd Qu.    Max. \n",
      "  1.600   2.163   4.000   3.488   4.454   5.100 \n",
      "\n"
     ]
    }
   ],
   "source": [
    "edsummary = r_base.summary(faithful_data.rx2(\"eruptions\"))\n",
    "#?edsummary\n",
    "\n",
    "print (str(edsummary))\n",
    "\n",
    "#for k, v in edsummary.items():\n",
    "#   print(\"%s: %.3f\\n\" %(k, v))"
   ]
  },
  {
   "cell_type": "code",
   "execution_count": 16,
   "metadata": {},
   "outputs": [
    {
     "name": "stdout",
     "output_type": "stream",
     "text": [
      "   eruptions        waiting    \n",
      " Min.   :1.600   Min.   :43.0  \n",
      " 1st Qu.:2.163   1st Qu.:58.0  \n",
      " Median :4.000   Median :76.0  \n",
      " Mean   :3.488   Mean   :70.9  \n",
      " 3rd Qu.:4.454   3rd Qu.:82.0  \n",
      " Max.   :5.100   Max.   :96.0  \n",
      "\n"
     ]
    }
   ],
   "source": [
    "edsummary = r_base.summary(faithful_data)\n",
    "#?edsummary\n",
    "\n",
    "print (str(edsummary))"
   ]
  },
  {
   "cell_type": "markdown",
   "metadata": {},
   "source": [
    "Stem-and-leaf plot"
   ]
  },
  {
   "cell_type": "code",
   "execution_count": 17,
   "metadata": {},
   "outputs": [
    {
     "name": "stdout",
     "output_type": "stream",
     "text": [
      "Stem-and-leaf plot of Old Faithful eruption duration data\n",
      "\n",
      "  The decimal point is 1 digit(s) to the left of the |\n",
      "\n",
      "  16 | 070355555588\n",
      "  18 | 000022233333335577777777888822335777888\n",
      "  20 | 00002223378800035778\n",
      "  22 | 0002335578023578\n",
      "  24 | 00228\n",
      "  26 | 23\n",
      "  28 | 080\n",
      "  30 | 7\n",
      "  32 | 2337\n",
      "  34 | 250077\n",
      "  36 | 0000823577\n",
      "  38 | 2333335582225577\n",
      "  40 | 0000003357788888002233555577778\n",
      "  42 | 03335555778800233333555577778\n",
      "  44 | 02222335557780000000023333357778888\n",
      "  46 | 0000233357700000023578\n",
      "  48 | 00000022335800333\n",
      "  50 | 0370\n",
      "\n"
     ]
    },
    {
     "data": {
      "text/plain": [
       "<rpy2.rinterface.NULLType object at 0x1158266c8> [RTYPES.NILSXP]"
      ]
     },
     "execution_count": 17,
     "metadata": {},
     "output_type": "execute_result"
    }
   ],
   "source": [
    "graphics = importr('graphics')\n",
    "\n",
    "print(\"Stem-and-leaf plot of Old Faithful eruption duration data\")\n",
    "graphics.stem(faithful_data.rx2(\"eruptions\"))"
   ]
  },
  {
   "cell_type": "markdown",
   "metadata": {},
   "source": [
    "Histogram"
   ]
  },
  {
   "cell_type": "code",
   "execution_count": 18,
   "metadata": {},
   "outputs": [
    {
     "data": {
      "text/html": [
       "\n",
       "        <span>IntVector with 1 elements.</span>\n",
       "        <table>\n",
       "        <tbody>\n",
       "          <tr>\n",
       "          \n",
       "            <td>\n",
       "            2\n",
       "            </td>\n",
       "          \n",
       "          </tr>\n",
       "        </tbody>\n",
       "        </table>\n",
       "        "
      ],
      "text/plain": [
       "R object with classes: ('RTYPES.INTSXP',) mapped to:\n",
       "[2]"
      ]
     },
     "execution_count": 18,
     "metadata": {},
     "output_type": "execute_result"
    }
   ],
   "source": [
    "grdevices = importr('grDevices')\n",
    "stats = importr('stats')\n",
    "grdevices.png('img/faithful_histogram.png', width = 733, height = 550)\n",
    "ed = faithful_data.rx2(\"eruptions\")\n",
    "graphics.hist(ed, r_base.seq(1.6, 5.2, 0.2),\n",
    "              prob = True, col = \"lightblue\",\n",
    "              main = \"Old Faithful eruptions\", xlab = \"Eruption duration (seconds)\")\n",
    "graphics.lines(stats.density(ed,bw=0.1), col = \"orange\")\n",
    "graphics.rug(ed)\n",
    "grdevices.dev_off()"
   ]
  },
  {
   "cell_type": "markdown",
   "metadata": {},
   "source": [
    "![Histogram](img/faithful_histogram.png)"
   ]
  },
  {
   "cell_type": "markdown",
   "metadata": {},
   "source": [
    "Note: ensure ggplot2 package is installed in R\n",
    "> install.packages('ggplot2')\n",
    "\n",
    "Again, it seems to work but doesn't display."
   ]
  },
  {
   "cell_type": "code",
   "execution_count": 19,
   "metadata": {},
   "outputs": [],
   "source": [
    "#from rpy2.robjects.lib import ggplot2\n",
    "\n",
    "#warning: `stat_bin()` using `bins = 30`. Pick better value with `binwidth`. \n",
    "#refer https://www.inertia7.com/projects/6\n",
    "\n",
    "p = ggplot2.ggplot(faithful_data) + \\\n",
    "    ggplot2.aes_string(x = \"eruptions\") + \\\n",
    "    ggplot2.geom_histogram(binwidth=10, fill = \"lightblue\") + \\\n",
    "    ggplot2.geom_density(ggplot2.aes_string(y = '..count..'), colour = \"orange\") + \\\n",
    "    ggplot2.geom_rug() + \\\n",
    "    ggplot2.scale_x_continuous(\"Eruption duration (seconds)\") \n",
    "\n",
    "p.plot()"
   ]
  },
  {
   "cell_type": "markdown",
   "metadata": {},
   "source": [
    "### Xtra"
   ]
  },
  {
   "cell_type": "markdown",
   "metadata": {},
   "source": [
    "Use pandas2ri - error"
   ]
  },
  {
   "cell_type": "code",
   "execution_count": 20,
   "metadata": {},
   "outputs": [],
   "source": [
    "#refer https://stackoverflow.com/questions/54676900/i-want-to-use-pandas2ri-in-jupyter-but-tzlocal-issue\n",
    "#run pip install tzlocal first\n",
    "from rpy2.robjects import pandas2ri\n",
    "pandas2ri.activate()"
   ]
  },
  {
   "cell_type": "code",
   "execution_count": 22,
   "metadata": {},
   "outputs": [
    {
     "ename": "AttributeError",
     "evalue": "module 'rpy2.robjects.pandas2ri' has no attribute 'ri2py'",
     "output_type": "error",
     "traceback": [
      "\u001b[0;31m---------------------------------------------------------------------------\u001b[0m",
      "\u001b[0;31mAttributeError\u001b[0m                            Traceback (most recent call last)",
      "\u001b[0;32m<ipython-input-22-97a3c8de9a03>\u001b[0m in \u001b[0;36m<module>\u001b[0;34m()\u001b[0m\n\u001b[1;32m      1\u001b[0m \u001b[0;32mfrom\u001b[0m \u001b[0mrpy2\u001b[0m\u001b[0;34m.\u001b[0m\u001b[0mrobjects\u001b[0m \u001b[0;32mimport\u001b[0m \u001b[0mr\u001b[0m\u001b[0;34m\u001b[0m\u001b[0;34m\u001b[0m\u001b[0m\n\u001b[1;32m      2\u001b[0m \u001b[0mr\u001b[0m\u001b[0;34m.\u001b[0m\u001b[0mdata\u001b[0m\u001b[0;34m(\u001b[0m\u001b[0;34m'iris'\u001b[0m\u001b[0;34m)\u001b[0m\u001b[0;34m\u001b[0m\u001b[0;34m\u001b[0m\u001b[0m\n\u001b[0;32m----> 3\u001b[0;31m \u001b[0mdf_iris\u001b[0m \u001b[0;34m=\u001b[0m \u001b[0mpandas2ri\u001b[0m\u001b[0;34m.\u001b[0m\u001b[0mri2py\u001b[0m\u001b[0;34m(\u001b[0m\u001b[0mr\u001b[0m\u001b[0;34m[\u001b[0m\u001b[0mname\u001b[0m\u001b[0;34m]\u001b[0m\u001b[0;34m)\u001b[0m\u001b[0;34m\u001b[0m\u001b[0;34m\u001b[0m\u001b[0m\n\u001b[0m",
      "\u001b[0;31mAttributeError\u001b[0m: module 'rpy2.robjects.pandas2ri' has no attribute 'ri2py'"
     ]
    }
   ],
   "source": [
    "from rpy2.robjects import r\n",
    "r.data('iris')\n",
    "df_iris = pandas2ri.ri2py(r[name])"
   ]
  },
  {
   "cell_type": "code",
   "execution_count": null,
   "metadata": {},
   "outputs": [],
   "source": []
  }
 ],
 "metadata": {
  "kernelspec": {
   "display_name": "Python 3",
   "language": "python",
   "name": "python3"
  },
  "language_info": {
   "codemirror_mode": {
    "name": "ipython",
    "version": 3
   },
   "file_extension": ".py",
   "mimetype": "text/x-python",
   "name": "python",
   "nbconvert_exporter": "python",
   "pygments_lexer": "ipython3",
   "version": "3.6.7"
  }
 },
 "nbformat": 4,
 "nbformat_minor": 2
}
